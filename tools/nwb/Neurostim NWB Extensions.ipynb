{
 "cells": [
  {
   "cell_type": "markdown",
   "id": "6405fae0",
   "metadata": {},
   "source": [
    "# Generate NWB extensions for Neurostim\n",
    "\n",
    "This is a simple extension of the NWB standard to allow Neurostim data files to store additional meta information.\n",
    "\n",
    "Following NWB good practices, the yaml specifications are not written manually but using the NamespaceBuilder to make future upgrades easier. \n",
    "\n",
    "Work in progress....\n",
    "\n",
    "BK - June 2021"
   ]
  },
  {
   "cell_type": "code",
   "execution_count": 42,
   "id": "7e03c551",
   "metadata": {},
   "outputs": [],
   "source": [
    "from pynwb.spec import NWBNamespaceBuilder, NWBGroupSpec, NWBAttributeSpec, NWBDatasetSpec, NWBDtypeSpec\n",
    "\n",
    "ns_path = \"neurostim.namespace.yaml\"\n",
    "ext_source = \"neurostim.extensions.yaml\"\n",
    "\n",
    "ns_builder = NWBNamespaceBuilder('Extension for use with Neurostim', \"neurostim\", version='0.1.0')\n",
    "\n",
    "ns_builder.include_type('LabMetaData', namespace='core')\n",
    "\n",
    "\n",
    "plg = NWBGroupSpec('Plugin Properties', \n",
    "                   name = 'plugins',\n",
    "                   quantity = 1\n",
    "                  )\n",
    "gitVersion = NWBDatasetSpec('Git Version', 'version',\n",
    "                           dtype= [\n",
    "                            NWBDtypeSpec('remote', 'git remote repository', 'text'),\n",
    "                            NWBDtypeSpec('branch', 'git branch', 'text'),\n",
    "                            NWBDtypeSpec('changes', 'local changes', 'text'),\n",
    "                            NWBDtypeSpec('hash', 'git hash', 'text')])\n",
    "plugin = NWBDatasetSpec('Plugin properties',name='plugins')\n",
    "                           \n",
    "\n",
    "\n",
    "ext = NWBGroupSpec('Metadata for Neurostim',\n",
    "                   name='cic',\n",
    "                   quantity  =1,\n",
    "                   attributes=[                                                               \n",
    "                       NWBAttributeSpec('matlab', 'The Matlab version used to create this data file', 'text',default_value='unknown'),\n",
    "                       NWBAttributeSpec('psychtoolbox', 'The Psychtoolbox version used to create this data file', 'text',default_value='unknown'),\n",
    "                       NWBAttributeSpec('file', 'The original file storing the Neurostim cic object', 'text',default_value='unknown'),\n",
    "                       NWBAttributeSpec('script', 'The Neurostim script used to run this experiment', 'text',default_value='n')],                     \n",
    "                   datasets=[gitVersion,plugin],                    \n",
    "                   neurodata_type_inc='LabMetaData',\n",
    "                   neurodata_type_def='NeurostimMetaData')\n",
    "\n",
    "\n",
    "ns_builder.add_spec(ext_source, ext)\n",
    "\n",
    "\n",
    "ns_builder.export(ns_path)\n"
   ]
  },
  {
   "cell_type": "markdown",
   "id": "8416ae8d",
   "metadata": {},
   "source": []
  },
  {
   "cell_type": "code",
   "execution_count": 12,
   "id": "ff200035",
   "metadata": {},
   "outputs": [
    {
     "data": {
      "text/plain": [
       "{'Neurostim': {'core': ('Container', 'LabMetaData', 'NWBContainer')}}"
      ]
     },
     "execution_count": 12,
     "metadata": {},
     "output_type": "execute_result"
    }
   ],
   "source": []
  }
 ],
 "metadata": {
  "kernelspec": {
   "display_name": "Python 3",
   "language": "python",
   "name": "python3"
  },
  "language_info": {
   "codemirror_mode": {
    "name": "ipython",
    "version": 3
   },
   "file_extension": ".py",
   "mimetype": "text/x-python",
   "name": "python",
   "nbconvert_exporter": "python",
   "pygments_lexer": "ipython3",
   "version": "3.8.8"
  }
 },
 "nbformat": 4,
 "nbformat_minor": 5
}
